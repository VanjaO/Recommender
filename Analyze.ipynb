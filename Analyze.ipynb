{
 "cells": [
  {
   "cell_type": "code",
   "execution_count": 1,
   "id": "velvet-needle",
   "metadata": {},
   "outputs": [],
   "source": [
    "from project_example import *"
   ]
  },
  {
   "cell_type": "code",
   "execution_count": 2,
   "id": "occupied-letter",
   "metadata": {},
   "outputs": [],
   "source": [
    "data = load_data(\"active1000\")"
   ]
  },
  {
   "cell_type": "code",
   "execution_count": 3,
   "id": "hearing-duration",
   "metadata": {
    "scrolled": true
   },
   "outputs": [
    {
     "name": "stdout",
     "output_type": "stream",
     "text": [
      "We recommend you these documents \n",
      "\n",
      "4867 with similarity: 0.7071\n",
      "11628 with similarity: 0.7071\n",
      "807 with similarity: 0.6667\n",
      "5525 with similarity: 0.6667\n",
      "2086 with similarity: 0.6030\n",
      "1433 with similarity: 0.5976\n",
      "247 with similarity: 0.5941\n",
      "16685 with similarity: 0.5774\n",
      "3001 with similarity: 0.5595\n",
      "473 with similarity: 0.5536\n",
      "478 with similarity: 0.5382\n",
      "45 with similarity: 0.5241\n",
      "5343 with similarity: 0.5156\n",
      "2042 with similarity: 0.5116\n",
      "1261 with similarity: 0.5014\n",
      "5529 with similarity: 0.5000\n",
      "8029 with similarity: 0.5000\n",
      "8042 with similarity: 0.5000\n",
      "11362 with similarity: 0.5000\n",
      "2848 with similarity: 0.5000\n",
      "17523 with similarity: 0.5000\n",
      "17613 with similarity: 0.5000\n",
      "7418 with similarity: 0.5000\n",
      "6539 with similarity: 0.5000\n",
      "8302 with similarity: 0.5000\n",
      "8300 with similarity: 0.5000\n",
      "6551 with similarity: 0.5000\n",
      "14799 with similarity: 0.5000\n",
      "16286 with similarity: 0.5000\n",
      "15855 with similarity: 0.5000\n"
     ]
    }
   ],
   "source": [
    "R1, R2 = AnalyzeUser(data, 1)"
   ]
  },
  {
   "cell_type": "code",
   "execution_count": 4,
   "id": "stuffed-minute",
   "metadata": {},
   "outputs": [],
   "source": [
    "docuTitle = data[['documentId', 'title', 'time']].copy()\n",
    "docuTitle = docuTitle[~docuTitle['documentId'].isnull()]\n",
    "docuTitle.drop_duplicates(subset=['documentId'], inplace=True)"
   ]
  },
  {
   "cell_type": "code",
   "execution_count": 5,
   "id": "helpful-venezuela",
   "metadata": {},
   "outputs": [],
   "source": [
    "docuTitle.insert(0, 'DocuID', range(0, 20344))"
   ]
  },
  {
   "cell_type": "code",
   "execution_count": 6,
   "id": "indie-diagnosis",
   "metadata": {},
   "outputs": [],
   "source": [
    "users = data[['userId']].copy()\n",
    "users = users[~users['userId'].isnull()]\n",
    "users.drop_duplicates(subset=['userId'], inplace=True)"
   ]
  },
  {
   "cell_type": "code",
   "execution_count": 7,
   "id": "reflected-gregory",
   "metadata": {},
   "outputs": [],
   "source": [
    "users.insert(0, 'UserID', range(0, 1000))"
   ]
  },
  {
   "cell_type": "code",
   "execution_count": 8,
   "id": "similar-smell",
   "metadata": {},
   "outputs": [],
   "source": [
    "event_logs = data[['userId', 'documentId', 'activeTime']].copy()"
   ]
  },
  {
   "cell_type": "code",
   "execution_count": 9,
   "id": "stretch-drilling",
   "metadata": {},
   "outputs": [],
   "source": [
    "event_logs = event_logs[~event_logs['activeTime'].isnull()]"
   ]
  },
  {
   "cell_type": "code",
   "execution_count": 10,
   "id": "animated-extreme",
   "metadata": {},
   "outputs": [],
   "source": [
    "event_logs = event_logs[~event_logs['documentId'].isnull()]"
   ]
  },
  {
   "cell_type": "code",
   "execution_count": 11,
   "id": "mexican-longitude",
   "metadata": {},
   "outputs": [],
   "source": [
    "column_names_to_normalize = ['activeTime']\n",
    "x = event_logs[column_names_to_normalize].values\n",
    "min_max_scaler = preprocessing.MinMaxScaler()\n",
    "x_scaled = min_max_scaler.fit_transform(x)\n",
    "df_temp = pd.DataFrame(x_scaled, columns=column_names_to_normalize, index = event_logs.index)\n",
    "event_logs[column_names_to_normalize] = df_temp"
   ]
  },
  {
   "cell_type": "code",
   "execution_count": 12,
   "id": "mounted-gilbert",
   "metadata": {},
   "outputs": [],
   "source": [
    "collabDocu = pd.merge(docuTitle, event_logs, on='documentId')\n",
    "collabUserDocu = pd.merge(users, collabDocu, on='userId')"
   ]
  },
  {
   "cell_type": "code",
   "execution_count": 13,
   "id": "instant-composite",
   "metadata": {},
   "outputs": [],
   "source": [
    "missing_pivot = collabUserDocu.pivot_table(values = 'activeTime', index = 'UserID', columns = 'DocuID')"
   ]
  },
  {
   "cell_type": "code",
   "execution_count": 14,
   "id": "minor-arnold",
   "metadata": {},
   "outputs": [],
   "source": [
    "read = {}\n",
    "rows_indexes = {}\n",
    "for i,row in missing_pivot.iterrows():\n",
    "    rows = [x for x in range(0,len(missing_pivot.columns))]\n",
    "    combine = list(zip(row.index, row.values, rows))\n",
    "    readd = [(x,z) for x,y,z in combine if str(y) != 'nan']\n",
    "    index = [i[1] for i in readd]\n",
    "    row_names = [i[0] for i in readd]\n",
    "    rows_indexes[i] = index\n",
    "    read[i] = row_names"
   ]
  },
  {
   "cell_type": "code",
   "execution_count": 15,
   "id": "electronic-harbor",
   "metadata": {},
   "outputs": [],
   "source": [
    "pivot_table = collabUserDocu.pivot_table(values = 'activeTime', index = 'UserID', columns = 'DocuID').fillna(0)"
   ]
  },
  {
   "cell_type": "code",
   "execution_count": 16,
   "id": "narrow-draft",
   "metadata": {},
   "outputs": [],
   "source": [
    "pivot_table = pivot_table.apply(np.sign)"
   ]
  },
  {
   "cell_type": "code",
   "execution_count": 17,
   "id": "short-impossible",
   "metadata": {},
   "outputs": [],
   "source": [
    "notread = {}\n",
    "notread_indexes = {}\n",
    "for i,row in pivot_table.iterrows():\n",
    "    rows = [x for x in range(0,len(missing_pivot.columns))]\n",
    "    combine = list(zip(row.index, row.values, row))\n",
    "    idx_row = [(idx,col) for idx, val, col in combine if not val > 0]\n",
    "    indices = [i[1] for i in idx_row]\n",
    "    row_names = [i[0] for i in idx_row]\n",
    "    notread_indexes[i] = indices\n",
    "    notread[i] = row_names"
   ]
  },
  {
   "cell_type": "code",
   "execution_count": 18,
   "id": "civilian-mixer",
   "metadata": {},
   "outputs": [],
   "source": [
    "n = 5\n",
    "cosine_knn = NearestNeighbors(n_neighbors = n, algorithm = 'brute', metric = 'cosine')\n",
    "docu_cosine_knn_fit = cosine_knn.fit(pivot_table.T.values)\n",
    "docu_distances, docu_indices = docu_cosine_knn_fit.kneighbors(pivot_table.T.values)"
   ]
  },
  {
   "cell_type": "code",
   "execution_count": 19,
   "id": "simplified-disclosure",
   "metadata": {},
   "outputs": [],
   "source": [
    "docus_dic = {}\n",
    "for i in range(len(pivot_table.T.index)):\n",
    "    docu_idx = docu_indices[i]\n",
    "    col_names = pivot_table.T.index[docu_idx].tolist()\n",
    "    docus_dic[pivot_table.T.index[i]] = col_names"
   ]
  },
  {
   "cell_type": "code",
   "execution_count": 20,
   "id": "extended-timber",
   "metadata": {},
   "outputs": [],
   "source": [
    "topRecs = {}\n",
    "for k,v in rows_indexes.items():\n",
    "    docu_idx = [j for i in docu_indices[v] for j in i]\n",
    "    docu_dist = [j for i in docu_distances[v] for j in i]\n",
    "    combine = list(zip(docu_dist, docu_idx))\n",
    "    diction = {i:d for d,i in combine if i not in v}\n",
    "    zipped = list(zip(diction.keys(),diction.values()))\n",
    "    sort = sorted(zipped, key = lambda x: x[1])\n",
    "    recommendations = [(pivot_table.columns[i], d) for i,d in sort]\n",
    "    topRecs[k] = recommendations"
   ]
  },
  {
   "cell_type": "code",
   "execution_count": 21,
   "id": "entitled-security",
   "metadata": {},
   "outputs": [
    {
     "name": "stdout",
     "output_type": "stream",
     "text": [
      "We recommend you these documents \n",
      "\n",
      "4867 with similarity: 0.7071\n",
      "11628 with similarity: 0.7071\n",
      "807 with similarity: 0.6667\n",
      "5525 with similarity: 0.6667\n",
      "2086 with similarity: 0.6030\n",
      "1433 with similarity: 0.5976\n",
      "247 with similarity: 0.5941\n",
      "16685 with similarity: 0.5774\n",
      "3001 with similarity: 0.5595\n",
      "473 with similarity: 0.5536\n",
      "478 with similarity: 0.5382\n",
      "45 with similarity: 0.5241\n",
      "5343 with similarity: 0.5156\n",
      "2042 with similarity: 0.5116\n",
      "1261 with similarity: 0.5014\n",
      "5529 with similarity: 0.5000\n",
      "8029 with similarity: 0.5000\n",
      "8042 with similarity: 0.5000\n",
      "11362 with similarity: 0.5000\n",
      "2848 with similarity: 0.5000\n",
      "17523 with similarity: 0.5000\n",
      "17613 with similarity: 0.5000\n",
      "7418 with similarity: 0.5000\n",
      "6539 with similarity: 0.5000\n",
      "8302 with similarity: 0.5000\n",
      "8300 with similarity: 0.5000\n",
      "6551 with similarity: 0.5000\n",
      "14799 with similarity: 0.5000\n",
      "16286 with similarity: 0.5000\n",
      "15855 with similarity: 0.5000\n"
     ]
    }
   ],
   "source": [
    "getrecommendations(1, pivot_table, topRecs)"
   ]
  },
  {
   "cell_type": "code",
   "execution_count": 22,
   "id": "angry-diagnosis",
   "metadata": {},
   "outputs": [],
   "source": [
    "docu_distances = 1 - docu_distances\n",
    "predictions = docu_distances.T.dot(pivot_table.T.values) / np.array([np.abs(docu_distances.T).sum(axis = 1)]).T\n",
    "ground_truth = pivot_table.T.values[docu_distances.argsort()[0]]"
   ]
  },
  {
   "cell_type": "code",
   "execution_count": 23,
   "id": "dependent-skill",
   "metadata": {},
   "outputs": [
    {
     "name": "stdout",
     "output_type": "stream",
     "text": [
      "0.9722903372235782\n"
     ]
    }
   ],
   "source": [
    "accuracy = rmse(predictions,ground_truth)\n",
    "print(accuracy)"
   ]
  },
  {
   "cell_type": "code",
   "execution_count": 24,
   "id": "computational-breach",
   "metadata": {},
   "outputs": [
    {
     "name": "stdout",
     "output_type": "stream",
     "text": [
      "None\n",
      "0.9722903372235782\n"
     ]
    }
   ],
   "source": [
    "print(R1)\n",
    "print(R2)"
   ]
  },
  {
   "cell_type": "code",
   "execution_count": null,
   "id": "dense-hearing",
   "metadata": {},
   "outputs": [],
   "source": []
  }
 ],
 "metadata": {
  "kernelspec": {
   "display_name": "Python 3",
   "language": "python",
   "name": "python3"
  },
  "language_info": {
   "codemirror_mode": {
    "name": "ipython",
    "version": 3
   },
   "file_extension": ".py",
   "mimetype": "text/x-python",
   "name": "python",
   "nbconvert_exporter": "python",
   "pygments_lexer": "ipython3",
   "version": "3.8.8"
  }
 },
 "nbformat": 4,
 "nbformat_minor": 5
}
