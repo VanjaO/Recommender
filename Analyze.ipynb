{
 "cells": [
  {
   "cell_type": "code",
   "execution_count": 1,
   "id": "french-valley",
   "metadata": {},
   "outputs": [],
   "source": [
    "from project_example import *"
   ]
  },
  {
   "cell_type": "code",
   "execution_count": 2,
   "id": "satisfactory-queens",
   "metadata": {},
   "outputs": [],
   "source": [
    "data = load_data(\"active1000\")"
   ]
  },
  {
   "cell_type": "code",
   "execution_count": 25,
   "id": "reliable-conditioning",
   "metadata": {},
   "outputs": [
    {
     "name": "stdout",
     "output_type": "stream",
     "text": [
      "(2207608, 9)\n"
     ]
    }
   ],
   "source": [
    "print(data.shape)"
   ]
  },
  {
   "cell_type": "code",
   "execution_count": 26,
   "id": "entitled-environment",
   "metadata": {},
   "outputs": [
    {
     "data": {
      "text/html": [
       "<div>\n",
       "<style scoped>\n",
       "    .dataframe tbody tr th:only-of-type {\n",
       "        vertical-align: middle;\n",
       "    }\n",
       "\n",
       "    .dataframe tbody tr th {\n",
       "        vertical-align: top;\n",
       "    }\n",
       "\n",
       "    .dataframe thead th {\n",
       "        text-align: right;\n",
       "    }\n",
       "</style>\n",
       "<table border=\"1\" class=\"dataframe\">\n",
       "  <thead>\n",
       "    <tr style=\"text-align: right;\">\n",
       "      <th></th>\n",
       "      <th>eventId</th>\n",
       "      <th>category</th>\n",
       "      <th>activeTime</th>\n",
       "      <th>title</th>\n",
       "      <th>url</th>\n",
       "      <th>userId</th>\n",
       "      <th>publishtime</th>\n",
       "      <th>time</th>\n",
       "      <th>documentId</th>\n",
       "    </tr>\n",
       "  </thead>\n",
       "  <tbody>\n",
       "    <tr>\n",
       "      <th>0</th>\n",
       "      <td>2059407368</td>\n",
       "      <td>None</td>\n",
       "      <td>9.0</td>\n",
       "      <td>None</td>\n",
       "      <td>http://adressa.no</td>\n",
       "      <td>cx:2ry8kk0pg92r51msqcyu96z5u6:3mhvo7hdj9g6y</td>\n",
       "      <td>None</td>\n",
       "      <td>1488063609</td>\n",
       "      <td>None</td>\n",
       "    </tr>\n",
       "    <tr>\n",
       "      <th>1</th>\n",
       "      <td>682091708</td>\n",
       "      <td>None</td>\n",
       "      <td>NaN</td>\n",
       "      <td>None</td>\n",
       "      <td>http://adressa.no</td>\n",
       "      <td>cx:16lfhhoa0byyq3c06phiivxcas:qf0oz0oiyr1g</td>\n",
       "      <td>None</td>\n",
       "      <td>1488063624</td>\n",
       "      <td>None</td>\n",
       "    </tr>\n",
       "    <tr>\n",
       "      <th>2</th>\n",
       "      <td>2064579395</td>\n",
       "      <td>nyheter|okonomi</td>\n",
       "      <td>NaN</td>\n",
       "      <td>- Landet bygges ikke bare mellom klokken 8 og 16</td>\n",
       "      <td>http://adressa.no/nyheter/okonomi/2017/02/25/l...</td>\n",
       "      <td>cx:13512028457711940833770:1cg93fqzhke70</td>\n",
       "      <td>2017-02-25T16:47:38.000Z</td>\n",
       "      <td>1488063624</td>\n",
       "      <td>cbfe5a35b79b2362796607c1e381a5f835394aa4</td>\n",
       "    </tr>\n",
       "    <tr>\n",
       "      <th>3</th>\n",
       "      <td>709984968</td>\n",
       "      <td>None</td>\n",
       "      <td>32.0</td>\n",
       "      <td>None</td>\n",
       "      <td>http://adressa.no</td>\n",
       "      <td>cx:htkipe5w759w5vw9:2souxtezokfus</td>\n",
       "      <td>None</td>\n",
       "      <td>1488063625</td>\n",
       "      <td>None</td>\n",
       "    </tr>\n",
       "    <tr>\n",
       "      <th>4</th>\n",
       "      <td>114179448</td>\n",
       "      <td>nyheter|trondheim</td>\n",
       "      <td>48.0</td>\n",
       "      <td>To innbruddsforsøk på tre dager</td>\n",
       "      <td>http://adressa.no/nyheter/trondheim/2017/02/25...</td>\n",
       "      <td>cx:2ry8kk0pg92r51msqcyu96z5u6:3mhvo7hdj9g6y</td>\n",
       "      <td>2017-02-25T20:29:21.000Z</td>\n",
       "      <td>1488063629</td>\n",
       "      <td>b3aa4b3a8d5f22ea512f67fd2b9ce0a572de0323</td>\n",
       "    </tr>\n",
       "  </tbody>\n",
       "</table>\n",
       "</div>"
      ],
      "text/plain": [
       "      eventId           category  activeTime  \\\n",
       "0  2059407368               None         9.0   \n",
       "1   682091708               None         NaN   \n",
       "2  2064579395    nyheter|okonomi         NaN   \n",
       "3   709984968               None        32.0   \n",
       "4   114179448  nyheter|trondheim        48.0   \n",
       "\n",
       "                                              title  \\\n",
       "0                                              None   \n",
       "1                                              None   \n",
       "2  - Landet bygges ikke bare mellom klokken 8 og 16   \n",
       "3                                              None   \n",
       "4                   To innbruddsforsøk på tre dager   \n",
       "\n",
       "                                                 url  \\\n",
       "0                                  http://adressa.no   \n",
       "1                                  http://adressa.no   \n",
       "2  http://adressa.no/nyheter/okonomi/2017/02/25/l...   \n",
       "3                                  http://adressa.no   \n",
       "4  http://adressa.no/nyheter/trondheim/2017/02/25...   \n",
       "\n",
       "                                        userId               publishtime  \\\n",
       "0  cx:2ry8kk0pg92r51msqcyu96z5u6:3mhvo7hdj9g6y                      None   \n",
       "1   cx:16lfhhoa0byyq3c06phiivxcas:qf0oz0oiyr1g                      None   \n",
       "2     cx:13512028457711940833770:1cg93fqzhke70  2017-02-25T16:47:38.000Z   \n",
       "3            cx:htkipe5w759w5vw9:2souxtezokfus                      None   \n",
       "4  cx:2ry8kk0pg92r51msqcyu96z5u6:3mhvo7hdj9g6y  2017-02-25T20:29:21.000Z   \n",
       "\n",
       "         time                                documentId  \n",
       "0  1488063609                                      None  \n",
       "1  1488063624                                      None  \n",
       "2  1488063624  cbfe5a35b79b2362796607c1e381a5f835394aa4  \n",
       "3  1488063625                                      None  \n",
       "4  1488063629  b3aa4b3a8d5f22ea512f67fd2b9ce0a572de0323  "
      ]
     },
     "execution_count": 26,
     "metadata": {},
     "output_type": "execute_result"
    }
   ],
   "source": [
    "data.head()"
   ]
  },
  {
   "cell_type": "code",
   "execution_count": 3,
   "id": "otherwise-elimination",
   "metadata": {
    "scrolled": true
   },
   "outputs": [
    {
     "name": "stdout",
     "output_type": "stream",
     "text": [
      "We recommend you these documents \n",
      "\n",
      "4867 with similarity: 0.7071\n",
      "11628 with similarity: 0.7071\n",
      "807 with similarity: 0.6667\n",
      "5525 with similarity: 0.6667\n",
      "2086 with similarity: 0.6030\n",
      "1433 with similarity: 0.5976\n",
      "247 with similarity: 0.5941\n",
      "16685 with similarity: 0.5774\n",
      "3001 with similarity: 0.5595\n",
      "473 with similarity: 0.5536\n",
      "478 with similarity: 0.5382\n",
      "45 with similarity: 0.5241\n",
      "5343 with similarity: 0.5156\n",
      "2042 with similarity: 0.5116\n",
      "1261 with similarity: 0.5014\n",
      "5529 with similarity: 0.5000\n",
      "8029 with similarity: 0.5000\n",
      "8042 with similarity: 0.5000\n",
      "11362 with similarity: 0.5000\n",
      "2848 with similarity: 0.5000\n",
      "17523 with similarity: 0.5000\n",
      "17613 with similarity: 0.5000\n",
      "7418 with similarity: 0.5000\n",
      "6539 with similarity: 0.5000\n",
      "8302 with similarity: 0.5000\n",
      "8300 with similarity: 0.5000\n",
      "6551 with similarity: 0.5000\n",
      "14799 with similarity: 0.5000\n",
      "16286 with similarity: 0.5000\n",
      "15855 with similarity: 0.5000\n"
     ]
    }
   ],
   "source": [
    "R1, R2 = AnalyzeUser(data, 1)"
   ]
  },
  {
   "cell_type": "code",
   "execution_count": 4,
   "id": "surface-links",
   "metadata": {},
   "outputs": [],
   "source": [
    "docuTitle = data[['documentId', 'title', 'time']].copy()\n",
    "docuTitle = docuTitle[~docuTitle['documentId'].isnull()]\n",
    "docuTitle.drop_duplicates(subset=['documentId'], inplace=True)"
   ]
  },
  {
   "cell_type": "code",
   "execution_count": 5,
   "id": "regular-short",
   "metadata": {},
   "outputs": [],
   "source": [
    "docuTitle.insert(0, 'DocuID', range(0, 20344))"
   ]
  },
  {
   "cell_type": "code",
   "execution_count": 6,
   "id": "significant-appointment",
   "metadata": {},
   "outputs": [],
   "source": [
    "users = data[['userId']].copy()\n",
    "users = users[~users['userId'].isnull()]\n",
    "users.drop_duplicates(subset=['userId'], inplace=True)"
   ]
  },
  {
   "cell_type": "code",
   "execution_count": 7,
   "id": "mobile-religious",
   "metadata": {},
   "outputs": [],
   "source": [
    "users.insert(0, 'UserID', range(0, 1000))"
   ]
  },
  {
   "cell_type": "code",
   "execution_count": 8,
   "id": "important-cookie",
   "metadata": {},
   "outputs": [],
   "source": [
    "event_logs = data[['userId', 'documentId', 'activeTime']].copy()"
   ]
  },
  {
   "cell_type": "code",
   "execution_count": 9,
   "id": "defensive-retention",
   "metadata": {},
   "outputs": [],
   "source": [
    "event_logs = event_logs[~event_logs['activeTime'].isnull()]"
   ]
  },
  {
   "cell_type": "code",
   "execution_count": 10,
   "id": "reliable-roots",
   "metadata": {},
   "outputs": [],
   "source": [
    "event_logs = event_logs[~event_logs['documentId'].isnull()]"
   ]
  },
  {
   "cell_type": "code",
   "execution_count": 11,
   "id": "psychological-charge",
   "metadata": {},
   "outputs": [],
   "source": [
    "column_names_to_normalize = ['activeTime']\n",
    "x = event_logs[column_names_to_normalize].values\n",
    "min_max_scaler = preprocessing.MinMaxScaler()\n",
    "x_scaled = min_max_scaler.fit_transform(x)\n",
    "df_temp = pd.DataFrame(x_scaled, columns=column_names_to_normalize, index = event_logs.index)\n",
    "event_logs[column_names_to_normalize] = df_temp"
   ]
  },
  {
   "cell_type": "code",
   "execution_count": 12,
   "id": "organizational-clarity",
   "metadata": {},
   "outputs": [],
   "source": [
    "collabDocu = pd.merge(docuTitle, event_logs, on='documentId')\n",
    "collabUserDocu = pd.merge(users, collabDocu, on='userId')"
   ]
  },
  {
   "cell_type": "code",
   "execution_count": 13,
   "id": "ceramic-serve",
   "metadata": {},
   "outputs": [],
   "source": [
    "missing_pivot = collabUserDocu.pivot_table(values = 'activeTime', index = 'UserID', columns = 'DocuID')"
   ]
  },
  {
   "cell_type": "code",
   "execution_count": 14,
   "id": "overhead-begin",
   "metadata": {},
   "outputs": [],
   "source": [
    "read = {}\n",
    "rows_indexes = {}\n",
    "for i,row in missing_pivot.iterrows():\n",
    "    rows = [x for x in range(0,len(missing_pivot.columns))]\n",
    "    combine = list(zip(row.index, row.values, rows))\n",
    "    readd = [(x,z) for x,y,z in combine if str(y) != 'nan']\n",
    "    index = [i[1] for i in readd]\n",
    "    row_names = [i[0] for i in readd]\n",
    "    rows_indexes[i] = index\n",
    "    read[i] = row_names"
   ]
  },
  {
   "cell_type": "code",
   "execution_count": 15,
   "id": "announced-adaptation",
   "metadata": {},
   "outputs": [],
   "source": [
    "pivot_table = collabUserDocu.pivot_table(values = 'activeTime', index = 'UserID', columns = 'DocuID').fillna(0)"
   ]
  },
  {
   "cell_type": "code",
   "execution_count": 16,
   "id": "potential-traveler",
   "metadata": {},
   "outputs": [],
   "source": [
    "pivot_table = pivot_table.apply(np.sign)"
   ]
  },
  {
   "cell_type": "code",
   "execution_count": 17,
   "id": "opposed-novelty",
   "metadata": {},
   "outputs": [],
   "source": [
    "notread = {}\n",
    "notread_indexes = {}\n",
    "for i,row in pivot_table.iterrows():\n",
    "    rows = [x for x in range(0,len(missing_pivot.columns))]\n",
    "    combine = list(zip(row.index, row.values, row))\n",
    "    idx_row = [(idx,col) for idx, val, col in combine if not val > 0]\n",
    "    indices = [i[1] for i in idx_row]\n",
    "    row_names = [i[0] for i in idx_row]\n",
    "    notread_indexes[i] = indices\n",
    "    notread[i] = row_names"
   ]
  },
  {
   "cell_type": "code",
   "execution_count": 18,
   "id": "fewer-workstation",
   "metadata": {},
   "outputs": [],
   "source": [
    "n = 5\n",
    "cosine_knn = NearestNeighbors(n_neighbors = n, algorithm = 'brute', metric = 'cosine')\n",
    "docu_cosine_knn_fit = cosine_knn.fit(pivot_table.T.values)\n",
    "docu_distances, docu_indices = docu_cosine_knn_fit.kneighbors(pivot_table.T.values)"
   ]
  },
  {
   "cell_type": "code",
   "execution_count": 19,
   "id": "czech-nitrogen",
   "metadata": {},
   "outputs": [],
   "source": [
    "docus_dic = {}\n",
    "for i in range(len(pivot_table.T.index)):\n",
    "    docu_idx = docu_indices[i]\n",
    "    col_names = pivot_table.T.index[docu_idx].tolist()\n",
    "    docus_dic[pivot_table.T.index[i]] = col_names"
   ]
  },
  {
   "cell_type": "code",
   "execution_count": 20,
   "id": "alpha-stroke",
   "metadata": {},
   "outputs": [],
   "source": [
    "topRecs = {}\n",
    "for k,v in rows_indexes.items():\n",
    "    docu_idx = [j for i in docu_indices[v] for j in i]\n",
    "    docu_dist = [j for i in docu_distances[v] for j in i]\n",
    "    combine = list(zip(docu_dist, docu_idx))\n",
    "    diction = {i:d for d,i in combine if i not in v}\n",
    "    zipped = list(zip(diction.keys(),diction.values()))\n",
    "    sort = sorted(zipped, key = lambda x: x[1])\n",
    "    recommendations = [(pivot_table.columns[i], d) for i,d in sort]\n",
    "    topRecs[k] = recommendations"
   ]
  },
  {
   "cell_type": "code",
   "execution_count": 21,
   "id": "continuous-grave",
   "metadata": {},
   "outputs": [
    {
     "name": "stdout",
     "output_type": "stream",
     "text": [
      "We recommend you these documents \n",
      "\n",
      "4867 with similarity: 0.7071\n",
      "11628 with similarity: 0.7071\n",
      "807 with similarity: 0.6667\n",
      "5525 with similarity: 0.6667\n",
      "2086 with similarity: 0.6030\n",
      "1433 with similarity: 0.5976\n",
      "247 with similarity: 0.5941\n",
      "16685 with similarity: 0.5774\n",
      "3001 with similarity: 0.5595\n",
      "473 with similarity: 0.5536\n",
      "478 with similarity: 0.5382\n",
      "45 with similarity: 0.5241\n",
      "5343 with similarity: 0.5156\n",
      "2042 with similarity: 0.5116\n",
      "1261 with similarity: 0.5014\n",
      "5529 with similarity: 0.5000\n",
      "8029 with similarity: 0.5000\n",
      "8042 with similarity: 0.5000\n",
      "11362 with similarity: 0.5000\n",
      "2848 with similarity: 0.5000\n",
      "17523 with similarity: 0.5000\n",
      "17613 with similarity: 0.5000\n",
      "7418 with similarity: 0.5000\n",
      "6539 with similarity: 0.5000\n",
      "8302 with similarity: 0.5000\n",
      "8300 with similarity: 0.5000\n",
      "6551 with similarity: 0.5000\n",
      "14799 with similarity: 0.5000\n",
      "16286 with similarity: 0.5000\n",
      "15855 with similarity: 0.5000\n"
     ]
    }
   ],
   "source": [
    "getrecommendations(1, pivot_table, topRecs)"
   ]
  },
  {
   "cell_type": "code",
   "execution_count": 22,
   "id": "gothic-iraqi",
   "metadata": {},
   "outputs": [],
   "source": [
    "docu_distances = 1 - docu_distances\n",
    "predictions = docu_distances.T.dot(pivot_table.T.values) / np.array([np.abs(docu_distances.T).sum(axis = 1)]).T\n",
    "ground_truth = pivot_table.T.values[docu_distances.argsort()[0]]"
   ]
  },
  {
   "cell_type": "code",
   "execution_count": 23,
   "id": "threaded-oasis",
   "metadata": {},
   "outputs": [
    {
     "name": "stdout",
     "output_type": "stream",
     "text": [
      "0.9722903372235782\n"
     ]
    }
   ],
   "source": [
    "accuracy = rmse(predictions,ground_truth)\n",
    "print(accuracy)"
   ]
  },
  {
   "cell_type": "code",
   "execution_count": 24,
   "id": "durable-filling",
   "metadata": {},
   "outputs": [
    {
     "name": "stdout",
     "output_type": "stream",
     "text": [
      "None\n",
      "0.9722903372235782\n"
     ]
    }
   ],
   "source": [
    "print(R1)\n",
    "print(R2)"
   ]
  },
  {
   "cell_type": "code",
   "execution_count": null,
   "id": "extraordinary-tiffany",
   "metadata": {},
   "outputs": [],
   "source": []
  }
 ],
 "metadata": {
  "kernelspec": {
   "display_name": "Python 3",
   "language": "python",
   "name": "python3"
  },
  "language_info": {
   "codemirror_mode": {
    "name": "ipython",
    "version": 3
   },
   "file_extension": ".py",
   "mimetype": "text/x-python",
   "name": "python",
   "nbconvert_exporter": "python",
   "pygments_lexer": "ipython3",
   "version": "3.8.8"
  }
 },
 "nbformat": 4,
 "nbformat_minor": 5
}
